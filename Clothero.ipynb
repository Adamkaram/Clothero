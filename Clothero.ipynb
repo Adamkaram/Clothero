{
  "nbformat": 4,
  "nbformat_minor": 0,
  "metadata": {
    "colab": {
      "name": "Clothero.ipynb",
      "provenance": [],
      "collapsed_sections": [],
      "toc_visible": true
    },
    "kernelspec": {
      "name": "python3",
      "display_name": "Python 3"
    }
  },
  "cells": [
    {
      "cell_type": "markdown",
      "metadata": {
        "id": "8zHZ5MlUO0xS",
        "colab_type": "text"
      },
      "source": [
        "# **Clothero Coparison and CSV conversions**"
      ]
    },
    {
      "cell_type": "markdown",
      "metadata": {
        "id": "gFPTVBVxPEZp",
        "colab_type": "text"
      },
      "source": [
        "## Connect drive"
      ]
    },
    {
      "cell_type": "code",
      "metadata": {
        "id": "fSC6oSYWPD3D",
        "colab_type": "code",
        "colab": {}
      },
      "source": [
        "from google.colab import drive\n",
        "drive.mount('/content/drive')"
      ],
      "execution_count": null,
      "outputs": []
    },
    {
      "cell_type": "markdown",
      "metadata": {
        "id": "1PvmJdJ9PO1q",
        "colab_type": "text"
      },
      "source": [
        " ## Import libraries"
      ]
    },
    {
      "cell_type": "code",
      "metadata": {
        "id": "P4vuHz80PN2H",
        "colab_type": "code",
        "colab": {}
      },
      "source": [
        "import tensorflow as tf\n",
        "import tensorflow_hub as hub\n",
        "import numpy as np\n",
        "import os\n",
        "import pandas as pd\n",
        "import matplotlib.pyplot as plt \n",
        "import base64\n",
        "from PIL import Image\n",
        "import io\n",
        "import math \n",
        "from math import sqrt\n",
        "import urllib.request\n",
        "import cv2"
      ],
      "execution_count": null,
      "outputs": []
    },
    {
      "cell_type": "markdown",
      "metadata": {
        "id": "08GtO_s6PaBQ",
        "colab_type": "text"
      },
      "source": [
        "## Download Pretrained model"
      ]
    },
    {
      "cell_type": "code",
      "metadata": {
        "id": "l0th5bR1OyNK",
        "colab_type": "code",
        "colab": {}
      },
      "source": [
        "embed = tf.keras.applications.MobileNetV2(input_shape=(224,224,3),\n",
        "                                               include_top=False,\n",
        "                                               weights='imagenet')"
      ],
      "execution_count": null,
      "outputs": []
    },
    {
      "cell_type": "markdown",
      "metadata": {
        "id": "aNh_l0L5PjVE",
        "colab_type": "text"
      },
      "source": [
        "## Tensorflow compare class"
      ]
    },
    {
      "cell_type": "code",
      "metadata": {
        "id": "ersbFSz8PmNc",
        "colab_type": "code",
        "colab": {}
      },
      "source": [
        "class TensorVector():\n",
        "\n",
        "    def __init__(self):\n",
        "        pass\n",
        "\n",
        "    def process(self, FileName):\n",
        "        img = tf.io.read_file(FileName)\n",
        "        img = tf.io.decode_jpeg(img, channels=3)\n",
        "        img = tf.image.resize_with_pad(img, 224, 224)\n",
        "        img = tf.image.convert_image_dtype(img, tf.float32)[tf.newaxis, ...]\n",
        "        features = embed.predict(img)\n",
        "        resize_feature = np.reshape(features, (7*7*1280))\n",
        "        return resize_feature\n",
        "\n",
        "    def cosineSim(self, a1, a2):\n",
        "        sum = 0\n",
        "        suma1 = 0\n",
        "        sumb1 = 0\n",
        "        for i, j in zip(a1, a2):\n",
        "            suma1 += i * i\n",
        "            sumb1 += j*j\n",
        "            sum += i*j\n",
        "        cosine_sim = sum / ((sqrt(suma1))*(sqrt(sumb1)))\n",
        "        return cosine_sim\n",
        "\n",
        "    def jaccard_similarity(self, list1, list2):\n",
        "        intersection = len(list(set(list1).intersection(list2)))\n",
        "        union = (len(list1) + len(list2)) - intersection\n",
        "        return float(intersection) / union\n",
        "\n",
        "    def average(self, x):\n",
        "        assert len(x) > 0\n",
        "        return float(sum(x)) / len(x)\n",
        "\n",
        "    def pearson_def(self, x, y):\n",
        "        assert len(x) == len(y)\n",
        "        n = len(x)\n",
        "        assert n > 0\n",
        "        avg_x = self.average(x)\n",
        "        avg_y = self.average(y)\n",
        "        diffprod = 0\n",
        "        xdiff2 = 0\n",
        "        ydiff2 = 0\n",
        "        for idx in range(n):\n",
        "            xdiff = x[idx] - avg_x\n",
        "            ydiff = y[idx] - avg_y\n",
        "            diffprod += xdiff * ydiff\n",
        "            xdiff2 += xdiff * xdiff\n",
        "            ydiff2 += ydiff * ydiff\n",
        "\n",
        "        return diffprod / math.sqrt(xdiff2 * ydiff2)\n",
        "\n",
        "    def mean(self, vector1, vector2):\n",
        "        cs = self.cosineSim(vector1, vector2)\n",
        "        # js=self.jaccard_similarity(vector1,vector2)\n",
        "        ps = self.pearson_def(vector1, vector2)\n",
        "        # print(cs,js,ps)\n",
        "        average = (cs+ps)/2\n",
        "        # print(average)\n",
        "        return average\n",
        "\n",
        "    def compare(self, images):\n",
        "        vector1 = self.process(images[0])\n",
        "        vector2 = self.process(images[1])\n",
        "        return self.mean(vector1, vector2)\n"
      ],
      "execution_count": null,
      "outputs": []
    },
    {
      "cell_type": "markdown",
      "metadata": {
        "id": "3UnP-BuzPsEr",
        "colab_type": "text"
      },
      "source": [
        "## convert base64\n"
      ]
    },
    {
      "cell_type": "code",
      "metadata": {
        "id": "UlQcRPKKPwty",
        "colab_type": "code",
        "colab": {}
      },
      "source": [
        "\n",
        "def convertBase64(FileName):\n",
        "    \"\"\"\n",
        "    Return the Numpy array for a image \n",
        "    \"\"\"\n",
        "    with open(FileName, \"rb\") as f:\n",
        "        data = f.read()\n",
        "\n",
        "    res = base64.b64encode(data)\n",
        "\n",
        "    base64data = res.decode(\"UTF-8\")\n",
        "\n",
        "    imgdata = base64.b64decode(base64data)\n",
        "\n",
        "    #image = Image.open(io.BytesIO(imgdata))\n",
        "\n",
        "    #return np.array(image)\n",
        "    return imgdata\n"
      ],
      "execution_count": null,
      "outputs": []
    },
    {
      "cell_type": "markdown",
      "metadata": {
        "id": "jUjzOORfPy5J",
        "colab_type": "text"
      },
      "source": [
        "## Upload CSV Scrapped"
      ]
    },
    {
      "cell_type": "code",
      "metadata": {
        "id": "jU_P65ImP1vq",
        "colab_type": "code",
        "colab": {}
      },
      "source": [
        "from google.colab import files\n",
        "files.upload()"
      ],
      "execution_count": null,
      "outputs": []
    },
    {
      "cell_type": "markdown",
      "metadata": {
        "id": "HJ2yqPytP37L",
        "colab_type": "text"
      },
      "source": [
        "## Create Class object and convert to csv database"
      ]
    },
    {
      "cell_type": "code",
      "metadata": {
        "id": "snsM0oMVP-tU",
        "colab_type": "code",
        "colab": {}
      },
      "source": [
        "ls_obj = TensorVector()\n",
        "col = ['Name', 'Product', 'Price', 'Link', 'Image', 'Type']\n",
        "db1 = pd.read_csv(\"amazon_data_jeans.csv\")[:2500]\n",
        "db1.columns = col\n",
        "db2 = pd.read_csv(\"amazon_data_tshirt.csv\")[:2500]\n",
        "db2.columns = col\n",
        "print(db1.head())\n",
        "img_url1 = db1[['Image']].values\n",
        "img_url2 = db2[['Image']].values\n",
        "db1['Vector'] = \"\"\n",
        "\n",
        "img_name = 'sample.jpg'\n"
      ],
      "execution_count": null,
      "outputs": []
    },
    {
      "cell_type": "markdown",
      "metadata": {
        "id": "tBbL8zrlQCCh",
        "colab_type": "text"
      },
      "source": [
        "## Iterate for Jeans n Tshirt"
      ]
    },
    {
      "cell_type": "code",
      "metadata": {
        "id": "dlx_tMzPQEk0",
        "colab_type": "code",
        "colab": {}
      },
      "source": [
        "for id, i in tqdm.tqdm(enumerate(img_url1)):\n",
        "    try:\n",
        "        urllib.request.urlretrieve(i[0], img_name)\n",
        "        vc = cls_obj.process(img_name)\n",
        "        db1['Vector'].iloc[id] = vc.tolist()\n",
        "    except:\n",
        "        db1['Vector'].iloc[id] = None\n",
        "        print(\"Err\")\n",
        "db2['Vector'] = \"\"\n",
        "\n",
        "img_name = 'sample.jpg'\n",
        "\n",
        "for id, i in tqdm.tqdm(enumerate(img_url2)):\n",
        "    try:\n",
        "        urllib.request.urlretrieve(i[0], img_name)\n",
        "        vc = cls_obj.process(img_name)\n",
        "        db2['Vector'].iloc[id] = vc.tolist()\n",
        "    except Exception as e:\n",
        "        db2['Vector'].iloc[id] = None\n",
        "        print(e)\n"
      ],
      "execution_count": null,
      "outputs": []
    },
    {
      "cell_type": "markdown",
      "metadata": {
        "id": "iH7ysbOBQMfL",
        "colab_type": "text"
      },
      "source": [
        "## Combine"
      ]
    },
    {
      "cell_type": "code",
      "metadata": {
        "id": "1BLMKDpEQNI8",
        "colab_type": "code",
        "colab": {}
      },
      "source": [
        "final_db = pd.concat([db1, db2])\n",
        "final_db.columns = ['Name', 'Product',\n",
        "                    'Price', 'Link', 'Image', 'Type', 'Vector']\n",
        "final_db.reset_index(inplace=True, drop=True)\n",
        "final_db.drop(['Name'], axis=1)\n",
        "final_db.to_csv(\"Data.csv\", index=0)"
      ],
      "execution_count": null,
      "outputs": []
    },
    {
      "cell_type": "markdown",
      "metadata": {
        "id": "mov6ykaSQS_y",
        "colab_type": "text"
      },
      "source": [
        "# **Make Database for show data**"
      ]
    },
    {
      "cell_type": "code",
      "metadata": {
        "id": "woyI7FCIQWhy",
        "colab_type": "code",
        "colab": {}
      },
      "source": [
        "t_img_url = [\"https://assets.myntassets.com/h_1440,q_90,w_1080/v1/assets/images/12029466/2020/7/29/059e98dd-604b-4dc0-9836-534d139248221596032265588AnoukWomenNavyBlueSolidStraightKurtaTshirtsAmericanCrewMenTs2.jpg\",\n",
        "\n",
        "             \"https://assets.myntassets.com/h_1440,q_90,w_1080/v1/assets/images/5508761/2018/4/30/11525068766496-HERENOW-Men-Teal-Printed-Round-Neck-T-shirt-2021525068766307-1.jpg\",\n",
        "             \"https://assets.myntassets.com/h_1440,q_90,w_1080/v1/assets/images/11548544/2020/3/9/5eeaead2-de8e-45fb-99d9-c5bccf21e7ea1583748694212-Huetrap-Men-Tshirts-6441583748692050-1.jpg\",\n",
        "             \"https://assets.myntassets.com/h_1440,q_90,w_1080/v1/assets/images/1964364/2017/6/23/11498197904638-HERENOW-Men-Navy-Blue-Solid-Henley-Neck-T-shirt-6741498197904414-1.jpg\",\n",
        "             \"https://assets.myntassets.com/h_1440,q_90,w_1080/v1/assets/images/1997302/2017/8/23/11503492424739-Roadster-Men-Red-Printed-Round-Neck-T-shirt-4971503492424397-1.jpg\",\n",
        "             \"https://assets.myntassets.com/h_1440,q_90,w_1080/v1/assets/images/11748120/2020/7/7/48d5564c-8166-4981-a50a-4414e59e49bc1594111528301ShangrilaCreationGold-TonedPinkSilkBlendWovenDesignPaithaniS1.jpg\",\n",
        "\n",
        "             \"https://assets.ajio.com/medias/sys_master/root/h53/h74/15216776806430/-473Wx593H-461085141-blue-MODEL3.jpg\",\n",
        "             \"https://assets.ajio.com/medias/sys_master/root/h22/hc3/16010300588062/-473Wx593H-461005997-multi-MODEL.jpg\",\n",
        "             \"https://assets.ajio.com/medias/sys_master/root/ajio/catalog/5efa2b5af997dd433b463c86/-473Wx593H-461209675-navy-MODEL.jpg\",\n",
        "             \"https://assets.ajio.com/medias/sys_master/root/ajio/catalog/5f0cab777cdb8c721b7bf2dd/-473Wx593H-460545545-green-MODEL3.jpg\",\n",
        "             \"https://assets.ajio.com/medias/sys_master/root/h9f/hd0/16053450932254/-473Wx593H-461134695-yellow-MODEL4.jpg\",\n",
        "             ]\n",
        "j_img_url = [\"https://assets.myntassets.com/h_1440,q_90,w_1080/v1/assets/images/10476518/2019/8/22/1ff738e2-aeb0-41e9-b81e-4046dc02d6221566465605679-LOCOMOTIVE-Men-Navy-Blue-Tapered-Fit-Jeans-8201566465604503-1.jpg\",\n",
        "             \"https://assets.myntassets.com/h_1440,q_90,w_1080/v1/assets/images/4451364/2019/11/25/8d57e2fc-4c1b-4f01-b129-40d3412eee5f1574687095197-Roadster-Fast-and-Furious-Men-Blue-Slim-Fit-Mid-Rise-Low-Dis-1.jpg\",\n",
        "             \"https://assets.myntassets.com/h_1440,q_90,w_1080/v1/assets/images/productimage/2020/7/7/9f7e7546-925e-4c07-b9de-1ec252b7cf7b1594100227721-1.jpg\",\n",
        "             \"https://assets.ajio.com/medias/sys_master/root/hed/h2f/15258040795166/-473Wx593H-460398814-blue-MODEL4.jpg\",\n",
        "             \"https://assets.ajio.com/medias/sys_master/root/h86/h9d/16764497756190/-473Wx593H-460596707-blue-MODEL6.jpg\",\n",
        "             \"https://assets.ajio.com/medias/sys_master/root/h34/h27/14914075230238/-473Wx593H-460441264-grey-MODEL4.jpg\",\n",
        "             \"https://assets.ajio.com/medias/sys_master/root/h86/h9d/16764497756190/-473Wx593H-460596707-blue-MODEL6.jpg\",\n",
        "             \"https://assets.ajio.com/medias/sys_master/root/ajio/catalog/5f03a4d9f997dd433b497e99/-473Wx593H-461214287-blue-MODEL5.jpg\", ]\n",
        "os.makedirs(\"Data\",exist_ok=True)"
      ],
      "execution_count": null,
      "outputs": []
    },
    {
      "cell_type": "markdown",
      "metadata": {
        "id": "MHelJvo3QcqW",
        "colab_type": "text"
      },
      "source": [
        "## Download and iterate for preprocessing"
      ]
    },
    {
      "cell_type": "code",
      "metadata": {
        "id": "SLNit6pqQb7_",
        "colab_type": "code",
        "colab": {}
      },
      "source": [
        "show_data = []\n",
        "for i, val in enumerate(t_img_url):\n",
        "\n",
        "    name = f\"Data/Tshirt-{i}.jpg\"\n",
        "    urllib.request.urlretrieve(val, name)\n",
        "    bs4 = val\n",
        "    vc = cls_obj.process(name)\n",
        "    type_ = \"Tshirt\"\n",
        "\n",
        "    show_data.append([type_, bs4, vc.tolist()])\n",
        "for i, val in enumerate(j_img_url):\n",
        "\n",
        "    name = f\"Data/Jeans-{i}.jpg\"\n",
        "    urllib.request.urlretrieve(val, name)\n",
        "    bs4 = val\n",
        "    vc = cls_obj.process(name)\n",
        "    type_ = \"Jeans\"\n",
        "    #row = (type_, bs4, vc.tolist())\n",
        "    row = [type_, bs4, vc.tolist()]\n",
        "    show_data.append(row)"
      ],
      "execution_count": null,
      "outputs": []
    }
  ]
}